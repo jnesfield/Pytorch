{
 "cells": [
  {
   "cell_type": "markdown",
   "metadata": {},
   "source": [
    "# torch cifar 10\n",
    "\n",
    "https://www.cs.toronto.edu/~kriz/cifar.html"
   ]
  },
  {
   "cell_type": "code",
   "execution_count": 1,
   "metadata": {},
   "outputs": [],
   "source": [
    "import numpy as np\n",
    "import torch\n",
    "from torch import nn, optim\n",
    "import torch.nn.functional as F\n",
    "from torchvision import datasets\n",
    "import torchvision.transforms as transforms\n",
    "from sklearn.metrics import accuracy_score\n",
    "import matplotlib.pyplot as plt\n"
   ]
  },
  {
   "cell_type": "code",
   "execution_count": 2,
   "metadata": {},
   "outputs": [
    {
     "name": "stdout",
     "output_type": "stream",
     "text": [
      "Files already downloaded and verified\n",
      "Files already downloaded and verified\n"
     ]
    }
   ],
   "source": [
    "#added augmentation\n",
    "transform_train = \\\n",
    "                transforms.Compose([\\\n",
    "                transforms.RandomHorizontalFlip(0.5), \\\n",
    "                transforms.RandomGrayscale(0.1),\\\n",
    "                transforms.ToTensor(),\\\n",
    "                transforms.Normalize((0.5, 0.5, 0.5), \\\n",
    "                (0.5, 0.5, 0.5))])\n",
    "transform_test =\\\n",
    "                transforms.Compose([\\\n",
    "                transforms.ToTensor(),\\\n",
    "                transforms.Normalize((0.5, 0.5, 0.5), \\\n",
    "                (0.5, 0.5, 0.5))])\n",
    "\n",
    "train_data = datasets.CIFAR10(root='data', train=True,download=True, transform=transform_train)\n",
    "test_data = datasets.CIFAR10(root='data', train=False,download=True, transform=transform_test)"
   ]
  },
  {
   "cell_type": "code",
   "execution_count": 3,
   "metadata": {},
   "outputs": [],
   "source": [
    "#splits\n",
    "dev_size = 0.2\n",
    "idx = list(range(len(train_data)))\n",
    "np.random.shuffle(idx)\n",
    "split_size = int(np.floor(dev_size * len(train_data)))\n",
    "train_idx, dev_idx = idx[split_size:], idx[:split_size]"
   ]
  },
  {
   "cell_type": "code",
   "execution_count": 4,
   "metadata": {},
   "outputs": [],
   "source": [
    "train_sampler = torch.utils.data.SubsetRandomSampler(train_idx)\n",
    "dev_sampler = torch.utils.data.SubsetRandomSampler(dev_idx)"
   ]
  },
  {
   "cell_type": "code",
   "execution_count": 5,
   "metadata": {},
   "outputs": [],
   "source": [
    "batch_size = 100\n",
    "train_loader = torch.utils.data.DataLoader(train_data, batch_size=batch_size, \\\n",
    "sampler=train_sampler)\n",
    "dev_loader = torch.utils.data.DataLoader(train_data, batch_size=batch_size, \\\n",
    "sampler=dev_sampler)\n",
    "test_loader = torch.utils.data.DataLoader(test_data, batch_size=batch_size)"
   ]
  },
  {
   "cell_type": "markdown",
   "metadata": {},
   "source": [
    "## neural net"
   ]
  },
  {
   "cell_type": "code",
   "execution_count": 6,
   "metadata": {},
   "outputs": [],
   "source": [
    "class CNN(nn.Module):\n",
    "    def __init__(self):\n",
    "        super(CNN, self).__init__()\n",
    "        self.conv1 = nn.Conv2d(3, 10, 3, 1, 1)\n",
    "        self.conv2 = nn.Conv2d(10, 20, 3, 1, 1)\n",
    "        self.conv3 = nn.Conv2d(20, 40, 3, 1, 1)\n",
    "        self.pool = nn.MaxPool2d(2, 2)\n",
    "        self.linear1 = nn.Linear(40 * 4 * 4, 100)\n",
    "        self.linear2 = nn.Linear(100, 10)\n",
    "        self.dropout = nn.Dropout(0.2)\n",
    "        \n",
    "    def forward(self, x):\n",
    "        x = self.pool(F.relu(self.conv1(x)))\n",
    "        x = self.pool(F.relu(self.conv2(x)))\n",
    "        x = self.pool(F.relu(self.conv3(x)))\n",
    "        x = x.view(-1, 40 * 4 * 4)\n",
    "        x = self.dropout(x)\n",
    "        x = F.relu(self.linear1(x))\n",
    "        x = self.dropout(x)\n",
    "        x = F.log_softmax(self.linear2(x), dim=1)\n",
    "        \n",
    "        return x"
   ]
  },
  {
   "cell_type": "code",
   "execution_count": 7,
   "metadata": {},
   "outputs": [],
   "source": [
    "model = CNN().to(\"cuda\")\n",
    "loss_function = nn.NLLLoss()\n",
    "optimizer = optim.Adam(model.parameters(), lr=0.001)\n",
    "epochs = 100"
   ]
  },
  {
   "cell_type": "code",
   "execution_count": 8,
   "metadata": {},
   "outputs": [
    {
     "name": "stdout",
     "output_type": "stream",
     "text": [
      "Epoch: 1/100..  Training Loss: 1.754..  Validation Loss: 1.480..  Training Accuracy: 0.354..  Validation Accuracy: 0.460\n",
      "Epoch: 5/100..  Training Loss: 1.197..  Validation Loss: 1.131..  Training Accuracy: 0.571..  Validation Accuracy: 0.596\n",
      "Epoch: 10/100..  Training Loss: 1.020..  Validation Loss: 0.955..  Training Accuracy: 0.639..  Validation Accuracy: 0.669\n",
      "Epoch: 15/100..  Training Loss: 0.925..  Validation Loss: 0.871..  Training Accuracy: 0.673..  Validation Accuracy: 0.696\n",
      "Epoch: 20/100..  Training Loss: 0.860..  Validation Loss: 0.845..  Training Accuracy: 0.696..  Validation Accuracy: 0.703\n",
      "Epoch: 25/100..  Training Loss: 0.821..  Validation Loss: 0.799..  Training Accuracy: 0.710..  Validation Accuracy: 0.719\n",
      "Epoch: 30/100..  Training Loss: 0.788..  Validation Loss: 0.789..  Training Accuracy: 0.722..  Validation Accuracy: 0.724\n",
      "Epoch: 35/100..  Training Loss: 0.763..  Validation Loss: 0.768..  Training Accuracy: 0.729..  Validation Accuracy: 0.731\n",
      "Epoch: 40/100..  Training Loss: 0.746..  Validation Loss: 0.764..  Training Accuracy: 0.733..  Validation Accuracy: 0.728\n",
      "Epoch: 45/100..  Training Loss: 0.726..  Validation Loss: 0.745..  Training Accuracy: 0.743..  Validation Accuracy: 0.742\n",
      "Epoch: 50/100..  Training Loss: 0.715..  Validation Loss: 0.733..  Training Accuracy: 0.746..  Validation Accuracy: 0.746\n",
      "Epoch: 55/100..  Training Loss: 0.705..  Validation Loss: 0.733..  Training Accuracy: 0.747..  Validation Accuracy: 0.744\n",
      "Epoch: 60/100..  Training Loss: 0.696..  Validation Loss: 0.733..  Training Accuracy: 0.752..  Validation Accuracy: 0.749\n",
      "Epoch: 65/100..  Training Loss: 0.685..  Validation Loss: 0.732..  Training Accuracy: 0.757..  Validation Accuracy: 0.747\n",
      "Epoch: 70/100..  Training Loss: 0.677..  Validation Loss: 0.717..  Training Accuracy: 0.759..  Validation Accuracy: 0.753\n",
      "Epoch: 75/100..  Training Loss: 0.668..  Validation Loss: 0.728..  Training Accuracy: 0.761..  Validation Accuracy: 0.746\n",
      "Epoch: 80/100..  Training Loss: 0.654..  Validation Loss: 0.712..  Training Accuracy: 0.768..  Validation Accuracy: 0.755\n",
      "Epoch: 85/100..  Training Loss: 0.656..  Validation Loss: 0.717..  Training Accuracy: 0.765..  Validation Accuracy: 0.751\n",
      "Epoch: 90/100..  Training Loss: 0.651..  Validation Loss: 0.703..  Training Accuracy: 0.769..  Validation Accuracy: 0.755\n",
      "Epoch: 95/100..  Training Loss: 0.645..  Validation Loss: 0.722..  Training Accuracy: 0.771..  Validation Accuracy: 0.753\n",
      "Epoch: 100/100..  Training Loss: 0.642..  Validation Loss: 0.714..  Training Accuracy: 0.770..  Validation Accuracy: 0.755\n"
     ]
    }
   ],
   "source": [
    "train_losses, dev_losses, train_acc, dev_acc= [], [], [], []\n",
    "x_axis = []\n",
    "# For loop through the epochs\n",
    "for e in range(1, epochs+1):\n",
    "    losses = 0\n",
    "    acc = 0\n",
    "    iterations = 0\n",
    "    model.train()\n",
    "    \"\"\"\n",
    "    For loop through the batches (created using\n",
    "    the train loader)\n",
    "    \"\"\"\n",
    "    for data, target in train_loader:\n",
    "        data_cuda = data.cuda()\n",
    "        target_cuda = target.cuda()\n",
    "        \n",
    "        iterations += 1\n",
    "        # Forward and backward pass of the training data\n",
    "        pred = model(data_cuda)        \n",
    "        loss = loss_function(pred, target_cuda)\n",
    "        optimizer.zero_grad()\n",
    "        loss.backward()\n",
    "        optimizer.step()\n",
    "        losses += loss.item()\n",
    "        p = torch.exp(pred)\n",
    "        top_p, top_class = p.topk(1, dim=1)\n",
    "        acc += accuracy_score(target_cuda.cpu(), top_class.cpu())\n",
    "        \n",
    "    dev_losss = 0\n",
    "    dev_accs = 0\n",
    "    iter_2 = 0\n",
    "    \n",
    "    # Validation of model for given epoch\n",
    "    if e%5 == 0 or e == 1:\n",
    "        x_axis.append(e)\n",
    "        \n",
    "        with torch.no_grad():\n",
    "            model.eval()\n",
    "            \"\"\"\n",
    "            For loop through the batches of\n",
    "            the validation set\n",
    "            \"\"\"\n",
    "            for data_dev, target_dev in dev_loader:\n",
    "                iter_2 += 1\n",
    "                data_dev_cuda = data_dev.cuda()\n",
    "                target_dev_cuda = target_dev.cuda()\n",
    "                \n",
    "                dev_pred = model(data_dev_cuda)\n",
    "                dev_loss = loss_function(dev_pred, target_dev_cuda)\n",
    "                dev_losss += dev_loss.item()\n",
    "                dev_p = torch.exp(dev_pred)            \n",
    "                top_p, dev_top_class = dev_p.topk(1, dim=1)\n",
    "                dev_accs += accuracy_score(target_dev_cuda.cpu(), \\\n",
    "                dev_top_class.cpu())\n",
    "            # Losses and accuracy are appended to be printed\n",
    "            train_losses.append(losses/iterations)\n",
    "            dev_losses.append(dev_losss/iter_2)\n",
    "            train_acc.append(acc/iterations)\n",
    "            dev_acc.append(dev_accs/iter_2)\n",
    "            print(\"Epoch: {}/{}.. \".format(e, epochs), \\\n",
    "                \"Training Loss: {:.3f}.. \"\\\n",
    "                .format(losses/iterations), \\\n",
    "                \"Validation Loss: {:.3f}.. \"\\\n",
    "                .format(dev_losss/iter_2), \\\n",
    "                \"Training Accuracy: {:.3f}.. \"\\\n",
    "                .format(acc/iterations), \\\n",
    "                \"Validation Accuracy: {:.3f}\"\\\n",
    "                .format(dev_accs/iter_2))"
   ]
  },
  {
   "cell_type": "code",
   "execution_count": 9,
   "metadata": {},
   "outputs": [
    {
     "data": {
      "image/png": "[encoded data removed]",
      "text/plain": [
       "<Figure size 640x480 with 1 Axes>"
      ]
     },
     "metadata": {},
     "output_type": "display_data"
    }
   ],
   "source": [
    "plt.plot(x_axis,train_losses, label='Training loss')\n",
    "plt.plot(x_axis, dev_losses, label='Validation loss')\n",
    "plt.legend(frameon=False)\n",
    "plt.show()"
   ]
  },
  {
   "cell_type": "code",
   "execution_count": 10,
   "metadata": {},
   "outputs": [
    {
     "data": {
      "image/png": "[encoded data removed]",
      "text/plain": [
       "<Figure size 640x480 with 1 Axes>"
      ]
     },
     "metadata": {},
     "output_type": "display_data"
    }
   ],
   "source": [
    "plt.plot(x_axis, train_acc, label=\"Training accuracy\")\n",
    "plt.plot(x_axis, dev_acc, label=\"Validation accuracy\")\n",
    "plt.legend(frameon=False)\n",
    "plt.show()"
   ]
  },
  {
   "cell_type": "code",
   "execution_count": 11,
   "metadata": {},
   "outputs": [
    {
     "name": "stdout",
     "output_type": "stream",
     "text": [
      "0.7539999999999999\n"
     ]
    }
   ],
   "source": [
    "model.eval()\n",
    "iter_3 = 0\n",
    "acc_test = 0\n",
    "for data_test, target_test in test_loader:\n",
    "    data_test_cuda = data_test.cuda()\n",
    "    target_test_cuda = target_test.cuda()\n",
    "    \n",
    "    iter_3 += 1\n",
    "    test_pred = model(data_test_cuda)\n",
    "    test_pred = torch.exp(test_pred)\n",
    "    top_p, top_class_test = test_pred.topk(1, dim=1)\n",
    "    acc_test += accuracy_score(target_test_cuda.cpu(), top_class_test.cpu())\n",
    "print(acc_test/iter_3)"
   ]
  },
  {
   "cell_type": "code",
   "execution_count": 12,
   "metadata": {},
   "outputs": [
    {
     "data": {
      "text/plain": [
       "Dataset CIFAR10\n",
       "    Number of datapoints: 50000\n",
       "    Root location: data\n",
       "    Split: Train\n",
       "    StandardTransform\n",
       "Transform: Compose(\n",
       "               RandomHorizontalFlip(p=0.5)\n",
       "               RandomGrayscale(p=0.1)\n",
       "               ToTensor()\n",
       "               Normalize(mean=(0.5, 0.5, 0.5), std=(0.5, 0.5, 0.5))\n",
       "           )"
      ]
     },
     "execution_count": 12,
     "metadata": {},
     "output_type": "execute_result"
    }
   ],
   "source": [
    "train_data"
   ]
  },
  {
   "cell_type": "code",
   "execution_count": null,
   "metadata": {},
   "outputs": [],
   "source": []
  }
 ],
 "metadata": {
  "kernelspec": {
   "display_name": "Python 3",
   "language": "python",
   "name": "python3"
  },
  "language_info": {
   "codemirror_mode": {
    "name": "ipython",
    "version": 3
   },
   "file_extension": ".py",
   "mimetype": "text/x-python",
   "name": "python",
   "nbconvert_exporter": "python",
   "pygments_lexer": "ipython3",
   "version": "3.8.10"
  }
 },
 "nbformat": 4,
 "nbformat_minor": 2
}
