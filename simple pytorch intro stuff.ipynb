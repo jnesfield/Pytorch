{
 "cells": [
  {
   "cell_type": "code",
   "execution_count": 1,
   "id": "12446d86",
   "metadata": {},
   "outputs": [],
   "source": [
    "import torch"
   ]
  },
  {
   "cell_type": "markdown",
   "id": "83a41e2d",
   "metadata": {},
   "source": [
    "# basics"
   ]
  },
  {
   "cell_type": "code",
   "execution_count": 2,
   "id": "a92c998c",
   "metadata": {},
   "outputs": [
    {
     "data": {
      "text/plain": [
       "False"
      ]
     },
     "execution_count": 2,
     "metadata": {},
     "output_type": "execute_result"
    }
   ],
   "source": [
    "#check if cuda resource/device is available\n",
    "torch.cuda.is_available()"
   ]
  },
  {
   "cell_type": "code",
   "execution_count": null,
   "id": "09417163",
   "metadata": {},
   "outputs": [],
   "source": [
    "#create tesnor of random numbers\n",
    "x = torch.Tensor(10).random_90,10)\n",
    "\n",
    "#allocate to cuda\n",
    "x.to(\"cuda\")\n",
    "\n",
    "#allocate to cpu\n",
    "x.to(\"cpu\")\n"
   ]
  },
  {
   "cell_type": "code",
   "execution_count": 3,
   "id": "8030c01e",
   "metadata": {},
   "outputs": [],
   "source": [
    "#crete tensors\n",
    "#much like with numpy\n",
    "tensor_1 = torch.tensor([1,1,0,2])\n",
    "tensor_2 = torch.tensor([[0,0,2,1,2],[1,0,2,2,0]])"
   ]
  },
  {
   "cell_type": "code",
   "execution_count": 4,
   "id": "3c3938b0",
   "metadata": {},
   "outputs": [
    {
     "name": "stdout",
     "output_type": "stream",
     "text": [
      "torch.Size([4])\n",
      "torch.Size([2, 5])\n"
     ]
    }
   ],
   "source": [
    "#get shapes\n",
    "print(tensor_1.shape)\n",
    "print(tensor_2.shape)"
   ]
  },
  {
   "cell_type": "code",
   "execution_count": null,
   "id": "f286bb77",
   "metadata": {},
   "outputs": [],
   "source": [
    "#implement tensor directly on gpu\n",
    "tensor = torch.tensor([1,1,0,2]).cuda()"
   ]
  },
  {
   "cell_type": "code",
   "execution_count": 7,
   "id": "07f6f5f9",
   "metadata": {},
   "outputs": [],
   "source": [
    "#some random examples\n",
    "example_1 = torch.randn(3,3)\n",
    "\n",
    "#Any tensor filled with integers must be converted into floats so that we can feed it to\n",
    "any PyTorch model.\n",
    "example_2 = (torch\n",
    "             .randint(low = 0, high = 2,\n",
    "                      size = (3,3))\n",
    "             .type(torch.FloatTensor))\n",
    "             \n"
   ]
  },
  {
   "cell_type": "code",
   "execution_count": 8,
   "id": "1babf67b",
   "metadata": {},
   "outputs": [
    {
     "name": "stdout",
     "output_type": "stream",
     "text": [
      "tensor([[ 1.9000,  0.4427, -1.0044],\n",
      "        [-1.1097, -2.1584, -2.7006],\n",
      "        [ 0.2977, -0.8016,  0.5656]])\n",
      "tensor([[0., 1., 1.],\n",
      "        [1., 0., 1.],\n",
      "        [0., 1., 1.]])\n"
     ]
    }
   ],
   "source": [
    "print(example_1)\n",
    "print(example_2)"
   ]
  },
  {
   "cell_type": "code",
   "execution_count": 9,
   "id": "a0659d10",
   "metadata": {},
   "outputs": [],
   "source": [
    "tensor_1 = torch.tensor([0.1,1,0.9,0.7,0.3])\n",
    "tensor_2 = torch.tensor([[0,0.2,0.4,0.6],[1,0.8,0.6,0.4]])\n",
    "tensor_3 = torch.tensor([[[0.3,0.6],[1,0]],\n",
    "                         [[0.3,0.6],[0,1]]])"
   ]
  },
  {
   "cell_type": "code",
   "execution_count": 10,
   "id": "9c91c457",
   "metadata": {},
   "outputs": [
    {
     "name": "stdout",
     "output_type": "stream",
     "text": [
      "torch.Size([5])\n",
      "torch.Size([2, 4])\n",
      "torch.Size([2, 2, 2])\n"
     ]
    }
   ],
   "source": [
    "print(tensor_1.shape)\n",
    "print(tensor_2.shape)\n",
    "print(tensor_3.shape)"
   ]
  },
  {
   "cell_type": "markdown",
   "id": "d5e46936",
   "metadata": {},
   "source": [
    "# autograd lib\n",
    "\n",
    "The autograd library consists of a technique called automatic differentiation. Its\n",
    "purpose is to numerically calculate the derivative of a function"
   ]
  },
  {
   "cell_type": "code",
   "execution_count": 11,
   "id": "567b9b89",
   "metadata": {},
   "outputs": [],
   "source": [
    "a = torch.tensor([5.0, 3.0], requires_grad=True)\n",
    "b = torch.tensor([1.0, 4.0])\n",
    "ab = ((a + b) ** 2).sum()\n",
    "ab.backward()"
   ]
  },
  {
   "cell_type": "code",
   "execution_count": 12,
   "id": "db48efc8",
   "metadata": {},
   "outputs": [
    {
     "name": "stdout",
     "output_type": "stream",
     "text": [
      "tensor([12., 14.])\n"
     ]
    }
   ],
   "source": [
    "print(a.grad.data)"
   ]
  },
  {
   "cell_type": "code",
   "execution_count": 13,
   "id": "12ef03ef",
   "metadata": {},
   "outputs": [
    {
     "ename": "AttributeError",
     "evalue": "'NoneType' object has no attribute 'data'",
     "output_type": "error",
     "traceback": [
      "\u001b[0;31m---------------------------------------------------------------------------\u001b[0m",
      "\u001b[0;31mAttributeError\u001b[0m                            Traceback (most recent call last)",
      "Input \u001b[0;32mIn [13]\u001b[0m, in \u001b[0;36m<cell line: 1>\u001b[0;34m()\u001b[0m\n\u001b[0;32m----> 1\u001b[0m \u001b[38;5;28mprint\u001b[39m(\u001b[43mb\u001b[49m\u001b[38;5;241;43m.\u001b[39;49m\u001b[43mgrad\u001b[49m\u001b[38;5;241;43m.\u001b[39;49m\u001b[43mdata\u001b[49m)\n",
      "\u001b[0;31mAttributeError\u001b[0m: 'NoneType' object has no attribute 'data'"
     ]
    }
   ],
   "source": [
    "print(b.grad.data)"
   ]
  },
  {
   "cell_type": "markdown",
   "id": "244a1f0c",
   "metadata": {},
   "source": [
    "# nn Module\n",
    "\n",
    "The autograd library alone can be used to build simple neural networks,\n",
    "considering that the trickier part (the calculation of gradients) has been taken care\n",
    "of. However, this methodology can be troublesome, hence the introduction of the\n",
    "nn module.\n",
    "\n",
    "The nn module is a complete PyTorch module used to create and train neural\n",
    "networks, which, through the use of different elements, allows for simple and\n",
    "complex developments. For instance, the Sequential() container allows for the\n",
    "easy creation of network architectures that follow a sequence of predefined modules\n",
    "(or layers) without the need for much knowledge of defining network architectures.\n"
   ]
  },
  {
   "cell_type": "code",
   "execution_count": 15,
   "id": "18b7eaf2",
   "metadata": {},
   "outputs": [],
   "source": [
    "import torch.nn as nn\n",
    "\n",
    "\n",
    "#input_units refers to the number of features that the input data contains,\n",
    "input_units = 1\n",
    "#hidden_units refers to the number of nodes of the hidden layer, and\n",
    "hidden_units = 4\n",
    "#output_units refers to the number of nodes of the output layer.\n",
    "output_units = 1\n",
    "\n",
    "model = nn.Sequential(nn.Linear(input_units, hidden_units),  \n",
    "                      nn.ReLU(), \n",
    "                      nn.Linear(hidden_units, output_units), \n",
    "                      nn.Sigmoid())\n",
    "\n",
    "loss_funct = nn.MSELoss()\n"
   ]
  },
  {
   "cell_type": "markdown",
   "id": "05c6faa1",
   "metadata": {},
   "source": [
    "# Single-Layer Architecture"
   ]
  },
  {
   "cell_type": "code",
   "execution_count": 3,
   "id": "0713969a",
   "metadata": {},
   "outputs": [],
   "source": [
    "import torch\n",
    "import torch.nn as nn"
   ]
  },
  {
   "cell_type": "markdown",
   "id": "1c2674d4",
   "metadata": {},
   "source": [
    "torch.manual_seed(0) is being used in this exercise in order to\n",
    "ensure the reproducibility of the results that were obtained in this book's\n",
    "GitHub repository. However, when training a network for other purposes, a\n",
    "seed must not be defined.\n",
    "To learn more about seed in PyTorch,\n",
    "visit https://pytorch.org/docs/stable/notes/randomness.html"
   ]
  },
  {
   "cell_type": "code",
   "execution_count": 4,
   "id": "db057558",
   "metadata": {},
   "outputs": [
    {
     "name": "stdout",
     "output_type": "stream",
     "text": [
      "Sequential(\n",
      "  (0): Linear(in_features=10, out_features=1, bias=True)\n",
      "  (1): Sigmoid()\n",
      ")\n"
     ]
    }
   ],
   "source": [
    "input_units = 10\n",
    "output_units = 1\n",
    "\n",
    "model = nn.Sequential(nn.Linear(input_units, output_units), nn.Sigmoid())\n",
    "\n",
    "print(model)"
   ]
  },
  {
   "cell_type": "code",
   "execution_count": 5,
   "id": "c377c1f3",
   "metadata": {},
   "outputs": [
    {
     "name": "stdout",
     "output_type": "stream",
     "text": [
      "MSELoss()\n"
     ]
    }
   ],
   "source": [
    "loss_funct = nn.MSELoss()\n",
    "\n",
    "print(loss_funct)"
   ]
  },
  {
   "cell_type": "markdown",
   "id": "538af8e2",
   "metadata": {},
   "source": [
    "# optim Package\n",
    "\n",
    "The optim package is used to define the optimizer that will be used to update\n",
    "the parameters in each iteration (which will be further explained in the following\n",
    "chapters) using the gradients calculated by the autograd module. Here, it is\n",
    "possible to choose from different optimization algorithms that are available, such as\n",
    "Adam, Stochastic Gradient Descent (SGD), and Root Mean Square Propagation\n",
    "(RMSprop), among others."
   ]
  },
  {
   "cell_type": "code",
   "execution_count": 6,
   "id": "e2a9b49e",
   "metadata": {},
   "outputs": [],
   "source": [
    "#To set the optimizer to be used, the following line of code shall suffice, after importing the package:\n",
    "import torch\n",
    "\n",
    "# Here, the model.parameters() argument refers to the weights and biases from \n",
    "# the model that were previously created, while lr refers to the learning rate, which\n",
    "# was set to 0.01 .\n",
    "optimizer = torch.optim.SGD(model.parameters(), lr=0.01)"
   ]
  },
  {
   "cell_type": "code",
   "execution_count": null,
   "id": "2cd28015",
   "metadata": {},
   "outputs": [],
   "source": [
    "# Next, the process of running the optimization for 100 iterations is shown here,\n",
    "# which, as you can see, uses the model created by the nn module and the gradients\n",
    "# calculated by the autograd library:\n",
    "for i in range(100):\n",
    "    # Call to the model to perform a prediction\n",
    "    y_pred = model(x)\n",
    "    # Calculation of loss function based on y_pred and y\n",
    "    loss = loss_funct(y_pred, y)\n",
    "    # Zero the gradients so that previous ones don't accumulate\n",
    "    optimizer.zero_grad()\n",
    "    # Calculate the gradients of the loss function\n",
    "    loss.backward()\n",
    "    \"\"\"\n",
    "    Call to the optimizer to perform an update\n",
    "    of the parameters\n",
    "    \"\"\"\n",
    "    optimizer.step()"
   ]
  },
  {
   "cell_type": "markdown",
   "id": "5a80e001",
   "metadata": {},
   "source": [
    "# Training a Neural Network"
   ]
  },
  {
   "cell_type": "code",
   "execution_count": 7,
   "id": "143b04fb",
   "metadata": {},
   "outputs": [],
   "source": [
    "#imports\n",
    "import torch\n",
    "import torch.optim as optim\n",
    "import matplotlib.pyplot as plt"
   ]
  },
  {
   "cell_type": "code",
   "execution_count": 8,
   "id": "a4b5e2b4",
   "metadata": {},
   "outputs": [],
   "source": [
    "# make dummy data\n",
    "x = torch.randn(20,10)\n",
    "y = torch.randint(0,2, (20,1)).type(torch.FloatTensor)"
   ]
  },
  {
   "cell_type": "code",
   "execution_count": 9,
   "id": "370b4c9d",
   "metadata": {},
   "outputs": [
    {
     "name": "stdout",
     "output_type": "stream",
     "text": [
      "Sequential(\n",
      "  (0): Linear(in_features=10, out_features=1, bias=True)\n",
      "  (1): Sigmoid()\n",
      ")\n"
     ]
    }
   ],
   "source": [
    "#define network\n",
    "input_units = 10\n",
    "output_units = 1\n",
    "\n",
    "model = nn.Sequential(nn.Linear(input_units, output_units), nn.Sigmoid())\n",
    "\n",
    "print(model)"
   ]
  },
  {
   "cell_type": "code",
   "execution_count": 10,
   "id": "8a72cfdd",
   "metadata": {},
   "outputs": [],
   "source": [
    "#define optimizer\n",
    "optimizer = optim.Adam(model.parameters(), lr=0.01)"
   ]
  },
  {
   "cell_type": "code",
   "execution_count": 12,
   "id": "1028df48",
   "metadata": {},
   "outputs": [
    {
     "name": "stdout",
     "output_type": "stream",
     "text": [
      "0 0.2166246473789215\n",
      "5 0.20326979458332062\n",
      "10 0.19316498935222626\n",
      "15 0.18550585210323334\n"
     ]
    }
   ],
   "source": [
    "# run optimization for 20 iterations saving losses in a list\n",
    "losses = []\n",
    "for i in range(20):\n",
    "    y_pred = model(x)\n",
    "    loss = loss_funct(y_pred, y)\n",
    "    losses.append(loss.item())\n",
    "    optimizer.zero_grad()\n",
    "    loss.backward()\n",
    "    optimizer.step()\n",
    "    \n",
    "    if i%5 == 0:\n",
    "        print(i, loss.item())"
   ]
  },
  {
   "cell_type": "code",
   "execution_count": 13,
   "id": "5cb43f70",
   "metadata": {},
   "outputs": [
    {
     "data": {
      "image/png": "[encoded data removed]",
      "text/plain": [
       "<Figure size 432x288 with 1 Axes>"
      ]
     },
     "metadata": {
      "needs_background": "light"
     },
     "output_type": "display_data"
    }
   ],
   "source": [
    "#plot loss\n",
    "plt.plot(range(0,20), losses)\n",
    "plt.show()"
   ]
  },
  {
   "cell_type": "markdown",
   "id": "89038fa6",
   "metadata": {},
   "source": [
    "# Creating a Single-Layer Neural Network\n",
    "\n",
    "For this activity, we will create a single-layer neural network, which will be a starting\n",
    "point from which we will create deep neural networks in future activities. Let's look at\n",
    "the following scenario.\n",
    "\n",
    "You work as an assistant of the mayor of Somerville and the HR department has\n",
    "asked you to build a model capable of predicting whether a person is happy with\n",
    "the current administration based on their satisfaction with the city's services. To do\n",
    "so, you have decided to build a single-layer neural network using PyTorch, using the\n",
    "response of previous surveys. Perform the following steps to complete this activity:"
   ]
  },
  {
   "cell_type": "code",
   "execution_count": 20,
   "id": "ec5681df",
   "metadata": {},
   "outputs": [],
   "source": [
    "#imports\n",
    "import torch\n",
    "import torch.optim as optim\n",
    "import matplotlib.pyplot as plt\n",
    "import pandas as pd\n",
    "import numpy as np\n"
   ]
  },
  {
   "cell_type": "code",
   "execution_count": 21,
   "id": "85e62671",
   "metadata": {},
   "outputs": [
    {
     "data": {
      "text/html": [
       "<div>\n",
       "<style scoped>\n",
       "    .dataframe tbody tr th:only-of-type {\n",
       "        vertical-align: middle;\n",
       "    }\n",
       "\n",
       "    .dataframe tbody tr th {\n",
       "        vertical-align: top;\n",
       "    }\n",
       "\n",
       "    .dataframe thead th {\n",
       "        text-align: right;\n",
       "    }\n",
       "</style>\n",
       "<table border=\"1\" class=\"dataframe\">\n",
       "  <thead>\n",
       "    <tr style=\"text-align: right;\">\n",
       "      <th></th>\n",
       "      <th>D</th>\n",
       "      <th>X1</th>\n",
       "      <th>X2</th>\n",
       "      <th>X3</th>\n",
       "      <th>X4</th>\n",
       "      <th>X5</th>\n",
       "      <th>X6</th>\n",
       "    </tr>\n",
       "  </thead>\n",
       "  <tbody>\n",
       "    <tr>\n",
       "      <th>0</th>\n",
       "      <td>0</td>\n",
       "      <td>3</td>\n",
       "      <td>3</td>\n",
       "      <td>3</td>\n",
       "      <td>4</td>\n",
       "      <td>2</td>\n",
       "      <td>4</td>\n",
       "    </tr>\n",
       "    <tr>\n",
       "      <th>1</th>\n",
       "      <td>0</td>\n",
       "      <td>3</td>\n",
       "      <td>2</td>\n",
       "      <td>3</td>\n",
       "      <td>5</td>\n",
       "      <td>4</td>\n",
       "      <td>3</td>\n",
       "    </tr>\n",
       "    <tr>\n",
       "      <th>2</th>\n",
       "      <td>1</td>\n",
       "      <td>5</td>\n",
       "      <td>3</td>\n",
       "      <td>3</td>\n",
       "      <td>3</td>\n",
       "      <td>3</td>\n",
       "      <td>5</td>\n",
       "    </tr>\n",
       "    <tr>\n",
       "      <th>3</th>\n",
       "      <td>0</td>\n",
       "      <td>5</td>\n",
       "      <td>4</td>\n",
       "      <td>3</td>\n",
       "      <td>3</td>\n",
       "      <td>3</td>\n",
       "      <td>5</td>\n",
       "    </tr>\n",
       "    <tr>\n",
       "      <th>4</th>\n",
       "      <td>0</td>\n",
       "      <td>5</td>\n",
       "      <td>4</td>\n",
       "      <td>3</td>\n",
       "      <td>3</td>\n",
       "      <td>3</td>\n",
       "      <td>5</td>\n",
       "    </tr>\n",
       "  </tbody>\n",
       "</table>\n",
       "</div>"
      ],
      "text/plain": [
       "   D  X1  X2  X3  X4  X5  X6\n",
       "0  0   3   3   3   4   2   4\n",
       "1  0   3   2   3   5   4   3\n",
       "2  1   5   3   3   3   3   5\n",
       "3  0   5   4   3   3   3   5\n",
       "4  0   5   4   3   3   3   5"
      ]
     },
     "execution_count": 21,
     "metadata": {},
     "output_type": "execute_result"
    }
   ],
   "source": [
    "#import data and review top rows\n",
    "data_set = pd.read_csv(r'https://raw.githubusercontent.com/PacktWorkshops/The-Deep-Learning-with-PyTorch-Workshop/master/Chapter01/Activity1.01/SomervilleHappinessSurvey2015.csv')\n",
    "\n",
    "data_set.head()\n"
   ]
  },
  {
   "cell_type": "code",
   "execution_count": 22,
   "id": "46325efd",
   "metadata": {},
   "outputs": [],
   "source": [
    "#create torch tensors from data\n",
    "y = torch.tensor(data_set['D'].values.astype(np.float32))\n",
    "x = torch.tensor(data_set.drop('D', axis = 1).values.astype(np.float32))\n"
   ]
  },
  {
   "cell_type": "code",
   "execution_count": 23,
   "id": "7e316e93",
   "metadata": {},
   "outputs": [
    {
     "name": "stdout",
     "output_type": "stream",
     "text": [
      "Sequential(\n",
      "  (0): Linear(in_features=6, out_features=1, bias=True)\n",
      "  (1): Sigmoid()\n",
      ")\n"
     ]
    }
   ],
   "source": [
    "#define single layer model\n",
    "input_units = 6\n",
    "output_units = 1\n",
    "\n",
    "model = nn.Sequential(nn.Linear(input_units, output_units), nn.Sigmoid())\n",
    "\n",
    "print(model)\n"
   ]
  },
  {
   "cell_type": "code",
   "execution_count": 24,
   "id": "4c078c78",
   "metadata": {},
   "outputs": [
    {
     "name": "stdout",
     "output_type": "stream",
     "text": [
      "MSELoss()\n"
     ]
    }
   ],
   "source": [
    "#define loss\n",
    "loss_funct = nn.MSELoss()\n",
    "\n",
    "print(loss_funct)\n"
   ]
  },
  {
   "cell_type": "code",
   "execution_count": 25,
   "id": "40eeed83",
   "metadata": {},
   "outputs": [],
   "source": [
    "#define optimizer\n",
    "optimizer = optim.Adam(model.parameters(), lr=0.01)\n"
   ]
  },
  {
   "cell_type": "code",
   "execution_count": 26,
   "id": "68cd473c",
   "metadata": {},
   "outputs": [
    {
     "name": "stdout",
     "output_type": "stream",
     "text": [
      "0 0.29979875683784485\n",
      "5 0.25794634222984314\n",
      "10 0.2644039988517761\n",
      "15 0.25615406036376953\n",
      "20 0.2583836019039154\n",
      "25 0.25539007782936096\n",
      "30 0.2555456757545471\n",
      "35 0.2543550133705139\n",
      "40 0.2539905309677124\n",
      "45 0.25326865911483765\n",
      "50 0.25287824869155884\n",
      "55 0.2523251473903656\n",
      "60 0.2519611418247223\n",
      "65 0.2515295445919037\n",
      "70 0.25119391083717346\n",
      "75 0.2508619427680969\n",
      "80 0.2505670487880707\n",
      "85 0.25030577182769775\n",
      "90 0.2500651478767395\n",
      "95 0.24985437095165253\n"
     ]
    },
    {
     "name": "stderr",
     "output_type": "stream",
     "text": [
      "/usr/local/lib/python3.8/dist-packages/torch/nn/modules/loss.py:529: UserWarning: Using a target size (torch.Size([143])) that is different to the input size (torch.Size([143, 1])). This will likely lead to incorrect results due to broadcasting. Please ensure they have the same size.\n",
      "  return F.mse_loss(input, target, reduction=self.reduction)\n"
     ]
    }
   ],
   "source": [
    "# run optimization for n20 iterations saving losses in a list\n",
    "n = 100\n",
    "losses = []\n",
    "for i in range(n):\n",
    "    y_pred = model(x)\n",
    "    loss = loss_funct(y_pred, y)\n",
    "    losses.append(loss.item())\n",
    "    optimizer.zero_grad()\n",
    "    loss.backward()\n",
    "    optimizer.step()\n",
    "    \n",
    "    if i%5 == 0:\n",
    "        print(i, loss.item())\n",
    "        "
   ]
  },
  {
   "cell_type": "code",
   "execution_count": 28,
   "id": "63468073",
   "metadata": {},
   "outputs": [
    {
     "data": {
      "image/png": "[encoded data removed]",
      "text/plain": [
       "<Figure size 432x288 with 1 Axes>"
      ]
     },
     "metadata": {
      "needs_background": "light"
     },
     "output_type": "display_data"
    }
   ],
   "source": [
    "#plot loss\n",
    "plt.plot(range(0,n), losses)\n",
    "plt.show()\n"
   ]
  },
  {
   "cell_type": "markdown",
   "id": "be59c5d6",
   "metadata": {},
   "source": [
    "# Summary\n",
    "Deep learning is a subset of machine learning that was inspired by the biological\n",
    "structure of human brains. It uses deep neural networks to solve complex data\n",
    "problems through the use of vast amounts of data. Even though the theory was\n",
    "developed decades ago, it has been used recently thanks to advances in hardware\n",
    "and software that allow us to collect and process millions of pieces of data.\n",
    "With the popularity of deep learning solutions, many deep learning libraries have\n",
    "been developed. Among them, one of the most recent ones is PyTorch. PyTorch uses\n",
    "a C++ backend, which helps speed up computation, while having a Python frontend to\n",
    "keep the library easy to use.\n",
    "\n",
    "It uses tensors to store data, which are n-ranked matrix-like structures that can be\n",
    "run on GPUs to speed up processing. It offers three main elements that are highly\n",
    "useful for creating complex neural network architectures with little effort.\n",
    "\n",
    "The autograd library can compute the derivatives of a function, which are used\n",
    "as the gradients to optimize the weights and biases of a model. Moreover, the\n",
    "nn module helps you to easily define the model's architecture as a sequence of\n",
    "predefined modules, as well as to determine the loss function to be used to measure\n",
    "the model. Finally, the optim package is used to select the optimization algorithm to\n",
    "be used to update the parameters, considering the gradients calculated previously.\n",
    "\n",
    "In the next chapter, we will learn about the building blocks of a neural network. We\n",
    "will cover the three types of learning processes, as well as the three most common\n",
    "types of neural networks. For each neural network, we will learn how the network\n",
    "architecture is structured, as well as how the training process works. Finally, we will\n",
    "learn about the importance of data preparation and solve a regression data problem."
   ]
  },
  {
   "cell_type": "code",
   "execution_count": null,
   "id": "d3fce1d9",
   "metadata": {},
   "outputs": [],
   "source": []
  }
 ],
 "metadata": {
  "kernelspec": {
   "display_name": "Python 3 (ipykernel)",
   "language": "python",
   "name": "python3"
  },
  "language_info": {
   "codemirror_mode": {
    "name": "ipython",
    "version": 3
   },
   "file_extension": ".py",
   "mimetype": "text/x-python",
   "name": "python",
   "nbconvert_exporter": "python",
   "pygments_lexer": "ipython3",
   "version": "3.8.10"
  }
 },
 "nbformat": 4,
 "nbformat_minor": 5
}
